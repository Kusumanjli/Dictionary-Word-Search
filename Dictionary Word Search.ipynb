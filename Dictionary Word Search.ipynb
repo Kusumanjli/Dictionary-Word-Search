{
 "cells": [
  {
   "cell_type": "code",
   "execution_count": 2,
   "id": "10dcacff",
   "metadata": {},
   "outputs": [
    {
     "name": "stdout",
     "output_type": "stream",
     "text": [
      "Collecting Levenshtein\n",
      "  Downloading Levenshtein-0.25.0-cp39-cp39-win_amd64.whl (98 kB)\n",
      "     ---------------------------------------- 98.6/98.6 kB 1.1 MB/s eta 0:00:00\n",
      "Collecting rapidfuzz<4.0.0,>=3.1.0 (from Levenshtein)\n",
      "  Downloading rapidfuzz-3.6.1-cp39-cp39-win_amd64.whl (1.6 MB)\n",
      "     ---------------------------------------- 1.6/1.6 MB 3.7 MB/s eta 0:00:00\n",
      "Installing collected packages: rapidfuzz, Levenshtein\n",
      "Successfully installed Levenshtein-0.25.0 rapidfuzz-3.6.1\n",
      "Note: you may need to restart the kernel to use updated packages.\n"
     ]
    },
    {
     "name": "stderr",
     "output_type": "stream",
     "text": [
      "WARNING: Ignoring invalid distribution -pencv-python-headless (c:\\users\\hp\\appdata\\local\\programs\\python\\python39\\lib\\site-packages)\n",
      "WARNING: Ignoring invalid distribution -pencv-python-headless (c:\\users\\hp\\appdata\\local\\programs\\python\\python39\\lib\\site-packages)\n",
      "\n",
      "[notice] A new release of pip is available: 23.1.2 -> 24.0\n",
      "[notice] To update, run: c:\\users\\hp\\appdata\\local\\programs\\python\\python39\\python.exe -m pip install --upgrade pip\n"
     ]
    }
   ],
   "source": [
    "%pip install Levenshtein"
   ]
  },
  {
   "cell_type": "code",
   "execution_count": 4,
   "id": "845387aa",
   "metadata": {},
   "outputs": [
    {
     "name": "stdout",
     "output_type": "stream",
     "text": [
      "Enter a word to search (type 'no' to exit): wine\n",
      "Word 'wine' found in the dictionary.\n",
      "Enter a word to search (type 'no' to exit): wineeee\n",
      "Word 'wineeee' not found in the dictionary. No suggestions.\n",
      "Enter a word to search (type 'no' to exit): comptr\n",
      "Word 'comptr' not found. Suggestions: ['comp', 'comer', 'comet', 'comps', 'compt', 'comte', 'coopt', 'coper', 'camper', 'coapts', 'coempt', 'comber', 'cometh', 'comets', 'comity', 'comped', 'compel', 'comply', 'compos', 'compte', 'compts', 'cooper', 'coopts', 'copper', 'copter', 'romper', 'coempts', 'compare', 'compeer', 'compere', 'compete', 'comport', 'compote', 'compted', 'compute', 'computer']\n",
      "Enter a word to search (type 'no' to exit): cmptr\n",
      "Word 'cmptr' not found. Suggestions: ['camper', 'caper', 'captor', 'compt', 'compte', 'compts', 'coper', 'copter', 'emptor', 'empty', 'imper']\n",
      "Enter a word to search (type 'no' to exit): ben\n",
      "Word 'ben' found in the dictionary.\n",
      "Enter a word to search (type 'no' to exit): beeen\n",
      "Word 'beeen' not found. Suggestions: ['baleen', 'bean', 'beaten', 'bedew', 'bee', 'beebee', 'beech', 'beechen', 'beef', 'beefed', 'beefs', 'beefy', 'been', 'beep', 'beeped', 'beeper', 'beeps', 'beer', 'beers', 'beery', 'bees', 'beet', 'beets', 'beeves', 'began', 'beget', 'begin', 'begun', 'ben', 'bene', 'benes', 'benin', 'beret', 'beseem', 'beset', 'bete', 'betel', 'betes', 'between', 'bevel', 'bezel', 'bleed', 'bleep', 'breed', 'deepen', 'eden', 'even', 'green', 'helen', 'ieee', 'keen', 'peen', 'preen', 'queen', 'seen', 'semen', 'seven', 'sheen', 'teen', 'tween', 'ween', 'yemen']\n",
      "Enter a word to search (type 'no' to exit): no\n"
     ]
    }
   ],
   "source": [
    "import Levenshtein\n",
    "\n",
    "class TrieNode:\n",
    "    def __init__(self):\n",
    "        self.children = {}\n",
    "        self.is_end_of_word = False\n",
    "\n",
    "\n",
    "class Dictionary:\n",
    "    def __init__(self):\n",
    "        self.root = TrieNode()\n",
    "\n",
    "    def insert(self, word):\n",
    "        # Space Complexity: O(M * N), M is the average length of words, N is the number of words\n",
    "        # Time Complexity: O(M * N), M is the average length of words, N is the number of words\n",
    "        if not word.isalpha():\n",
    "            return\n",
    "\n",
    "        node = self.root\n",
    "        for char in word:\n",
    "            if char not in node.children:\n",
    "                node.children[char] = TrieNode()\n",
    "            node = node.children[char]\n",
    "        node.is_end_of_word = True\n",
    "\n",
    "    def search(self, word, max_distance=2):\n",
    "        # Space Complexity: O(M), M is the length of the search query\n",
    "        # Time Complexity: O(M), M is the length of the search query\n",
    "        if not word.isalpha():\n",
    "            return []\n",
    "\n",
    "        word = word.lower()\n",
    "        node = self.root\n",
    "        for char in word:\n",
    "            if char in node.children:\n",
    "                node = node.children[char]\n",
    "            else:\n",
    "                return self._find_suggestions(word, max_distance)\n",
    "\n",
    "        if node.is_end_of_word:\n",
    "            return [word]\n",
    "        else:\n",
    "            suggestions = self._find_suggestions(word, max_distance)\n",
    "            suggestions.sort(key=len)  # Sort suggestions by length, prioritizing shorter distances\n",
    "            return suggestions\n",
    "\n",
    "    def _find_suggestions(self, word, max_distance):\n",
    "        suggestions = []\n",
    "        # Space Complexity: O(K * N * M), K is the number of suggestions, N is the number of nodes in Trie, M is the average length of words\n",
    "        # Time Complexity: O(K * N * M), K is the number of suggestions, N is the number of nodes in Trie, M is the average length of words\n",
    "        self._dfs_suggestions(self.root, '', word, suggestions, max_distance)\n",
    "        return suggestions\n",
    "\n",
    "    def _dfs_suggestions(self, node, current, target, suggestions, max_distance):\n",
    "        if node.is_end_of_word:\n",
    "            distance = Levenshtein.distance(target, current)\n",
    "            if distance <= max_distance:\n",
    "                suggestions.append(current)\n",
    "\n",
    "        for char, child_node in node.children.items():\n",
    "            self._dfs_suggestions(child_node, current + char, target, suggestions, max_distance)\n",
    "\n",
    "\n",
    "def build_dictionary(file_path):\n",
    "    dictionary = Dictionary()\n",
    "    with open(file_path, 'r') as file:\n",
    "        for line in file:\n",
    "            word = line.strip()\n",
    "            dictionary.insert(word)\n",
    "    return dictionary\n",
    "\n",
    "# Example usage\n",
    "file_path = r'C:\\Users\\hp\\AppData\\Local\\Programs\\Python\\Python39\\Scripts\\list.txt'\n",
    "my_dictionary = build_dictionary(file_path)\n",
    "\n",
    "# Search loop\n",
    "while True:\n",
    "    # Ask the user for a search query\n",
    "    search_word = input(\"Enter a word to search (type 'no' to exit): \").strip().lower()\n",
    "\n",
    "    # Check if the user wants to exit\n",
    "    if search_word == 'no':\n",
    "        break\n",
    "\n",
    "    # Perform the search\n",
    "    result = my_dictionary.search(search_word)\n",
    "\n",
    "    # Display the result\n",
    "    if result and result[0] == search_word:\n",
    "        print(f\"Word '{search_word}' found in the dictionary.\")\n",
    "    elif result:\n",
    "        print(f\"Word '{search_word}' not found. Suggestions: {result}\")\n",
    "    else:\n",
    "        print(f\"Word '{search_word}' not found in the dictionary. No suggestions.\")\n"
   ]
  },
  {
   "cell_type": "code",
   "execution_count": null,
   "id": "61c8b9c6",
   "metadata": {},
   "outputs": [],
   "source": []
  }
 ],
 "metadata": {
  "kernelspec": {
   "display_name": "Python 3 (ipykernel)",
   "language": "python",
   "name": "python3"
  },
  "language_info": {
   "codemirror_mode": {
    "name": "ipython",
    "version": 3
   },
   "file_extension": ".py",
   "mimetype": "text/x-python",
   "name": "python",
   "nbconvert_exporter": "python",
   "pygments_lexer": "ipython3",
   "version": "3.9.7"
  }
 },
 "nbformat": 4,
 "nbformat_minor": 5
}
